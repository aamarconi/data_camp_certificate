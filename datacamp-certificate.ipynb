{
 "cells": [
  {
   "cell_type": "code",
   "execution_count": 1,
   "id": "cf053bb1",
   "metadata": {
    "_cell_guid": "b1076dfc-b9ad-4769-8c92-a6c4dae69d19",
    "_uuid": "8f2839f25d086af736a60e9eeb907d3b93b6e0e5",
    "execution": {
     "iopub.execute_input": "2022-07-12T11:52:39.074606Z",
     "iopub.status.busy": "2022-07-12T11:52:39.073561Z",
     "iopub.status.idle": "2022-07-12T11:52:40.314362Z",
     "shell.execute_reply": "2022-07-12T11:52:40.313209Z"
    },
    "papermill": {
     "duration": 1.255905,
     "end_time": "2022-07-12T11:52:40.317560",
     "exception": false,
     "start_time": "2022-07-12T11:52:39.061655",
     "status": "completed"
    },
    "tags": []
   },
   "outputs": [],
   "source": [
    "#import environment\n",
    "import pandas as pd\n",
    "import numpy as np\n",
    "import matplotlib.pyplot as plt\n",
    "import seaborn as sns"
   ]
  },
  {
   "cell_type": "code",
   "execution_count": 2,
   "id": "ceec0f79",
   "metadata": {
    "execution": {
     "iopub.execute_input": "2022-07-12T11:52:40.336931Z",
     "iopub.status.busy": "2022-07-12T11:52:40.335947Z",
     "iopub.status.idle": "2022-07-12T11:52:40.378702Z",
     "shell.execute_reply": "2022-07-12T11:52:40.377877Z"
    },
    "papermill": {
     "duration": 0.054973,
     "end_time": "2022-07-12T11:52:40.381056",
     "exception": false,
     "start_time": "2022-07-12T11:52:40.326083",
     "status": "completed"
    },
    "tags": []
   },
   "outputs": [
    {
     "data": {
      "text/html": [
       "<div>\n",
       "<style scoped>\n",
       "    .dataframe tbody tr th:only-of-type {\n",
       "        vertical-align: middle;\n",
       "    }\n",
       "\n",
       "    .dataframe tbody tr th {\n",
       "        vertical-align: top;\n",
       "    }\n",
       "\n",
       "    .dataframe thead th {\n",
       "        text-align: right;\n",
       "    }\n",
       "</style>\n",
       "<table border=\"1\" class=\"dataframe\">\n",
       "  <thead>\n",
       "    <tr style=\"text-align: right;\">\n",
       "      <th></th>\n",
       "      <th>Age</th>\n",
       "      <th>Employment Type</th>\n",
       "      <th>GraduateOrNot</th>\n",
       "      <th>AnnualIncome</th>\n",
       "      <th>FamilyMembers</th>\n",
       "      <th>ChronicDiseases</th>\n",
       "      <th>FrequentFlyer</th>\n",
       "      <th>EverTravelledAbroad</th>\n",
       "      <th>TravelInsurance</th>\n",
       "    </tr>\n",
       "  </thead>\n",
       "  <tbody>\n",
       "    <tr>\n",
       "      <th>0</th>\n",
       "      <td>31</td>\n",
       "      <td>Government Sector</td>\n",
       "      <td>Yes</td>\n",
       "      <td>400000</td>\n",
       "      <td>6</td>\n",
       "      <td>1</td>\n",
       "      <td>No</td>\n",
       "      <td>No</td>\n",
       "      <td>0</td>\n",
       "    </tr>\n",
       "    <tr>\n",
       "      <th>1</th>\n",
       "      <td>31</td>\n",
       "      <td>Private Sector/Self Employed</td>\n",
       "      <td>Yes</td>\n",
       "      <td>1250000</td>\n",
       "      <td>7</td>\n",
       "      <td>0</td>\n",
       "      <td>No</td>\n",
       "      <td>No</td>\n",
       "      <td>0</td>\n",
       "    </tr>\n",
       "    <tr>\n",
       "      <th>2</th>\n",
       "      <td>34</td>\n",
       "      <td>Private Sector/Self Employed</td>\n",
       "      <td>Yes</td>\n",
       "      <td>500000</td>\n",
       "      <td>4</td>\n",
       "      <td>1</td>\n",
       "      <td>No</td>\n",
       "      <td>No</td>\n",
       "      <td>1</td>\n",
       "    </tr>\n",
       "    <tr>\n",
       "      <th>3</th>\n",
       "      <td>28</td>\n",
       "      <td>Private Sector/Self Employed</td>\n",
       "      <td>Yes</td>\n",
       "      <td>700000</td>\n",
       "      <td>3</td>\n",
       "      <td>1</td>\n",
       "      <td>No</td>\n",
       "      <td>No</td>\n",
       "      <td>0</td>\n",
       "    </tr>\n",
       "    <tr>\n",
       "      <th>4</th>\n",
       "      <td>28</td>\n",
       "      <td>Private Sector/Self Employed</td>\n",
       "      <td>Yes</td>\n",
       "      <td>700000</td>\n",
       "      <td>8</td>\n",
       "      <td>1</td>\n",
       "      <td>Yes</td>\n",
       "      <td>No</td>\n",
       "      <td>0</td>\n",
       "    </tr>\n",
       "  </tbody>\n",
       "</table>\n",
       "</div>"
      ],
      "text/plain": [
       "   Age               Employment Type GraduateOrNot  AnnualIncome  \\\n",
       "0   31             Government Sector           Yes        400000   \n",
       "1   31  Private Sector/Self Employed           Yes       1250000   \n",
       "2   34  Private Sector/Self Employed           Yes        500000   \n",
       "3   28  Private Sector/Self Employed           Yes        700000   \n",
       "4   28  Private Sector/Self Employed           Yes        700000   \n",
       "\n",
       "   FamilyMembers  ChronicDiseases FrequentFlyer EverTravelledAbroad  \\\n",
       "0              6                1            No                  No   \n",
       "1              7                0            No                  No   \n",
       "2              4                1            No                  No   \n",
       "3              3                1            No                  No   \n",
       "4              8                1           Yes                  No   \n",
       "\n",
       "   TravelInsurance  \n",
       "0                0  \n",
       "1                0  \n",
       "2                1  \n",
       "3                0  \n",
       "4                0  "
      ]
     },
     "execution_count": 2,
     "metadata": {},
     "output_type": "execute_result"
    }
   ],
   "source": [
    "df = pd.read_csv('../input/travel-insurance/travel_insurance.csv')\n",
    "df.head()"
   ]
  },
  {
   "cell_type": "code",
   "execution_count": 3,
   "id": "ac6e3626",
   "metadata": {
    "execution": {
     "iopub.execute_input": "2022-07-12T11:52:40.400936Z",
     "iopub.status.busy": "2022-07-12T11:52:40.400500Z",
     "iopub.status.idle": "2022-07-12T11:52:40.407787Z",
     "shell.execute_reply": "2022-07-12T11:52:40.407019Z"
    },
    "papermill": {
     "duration": 0.020488,
     "end_time": "2022-07-12T11:52:40.410275",
     "exception": false,
     "start_time": "2022-07-12T11:52:40.389787",
     "status": "completed"
    },
    "tags": []
   },
   "outputs": [
    {
     "data": {
      "text/plain": [
       "Age                     int64\n",
       "Employment Type        object\n",
       "GraduateOrNot          object\n",
       "AnnualIncome            int64\n",
       "FamilyMembers           int64\n",
       "ChronicDiseases         int64\n",
       "FrequentFlyer          object\n",
       "EverTravelledAbroad    object\n",
       "TravelInsurance         int64\n",
       "dtype: object"
      ]
     },
     "execution_count": 3,
     "metadata": {},
     "output_type": "execute_result"
    }
   ],
   "source": [
    "df.dtypes"
   ]
  },
  {
   "cell_type": "code",
   "execution_count": 4,
   "id": "ca1eee1f",
   "metadata": {
    "execution": {
     "iopub.execute_input": "2022-07-12T11:52:40.429741Z",
     "iopub.status.busy": "2022-07-12T11:52:40.429036Z",
     "iopub.status.idle": "2022-07-12T11:52:40.452303Z",
     "shell.execute_reply": "2022-07-12T11:52:40.451433Z"
    },
    "papermill": {
     "duration": 0.035707,
     "end_time": "2022-07-12T11:52:40.454679",
     "exception": false,
     "start_time": "2022-07-12T11:52:40.418972",
     "status": "completed"
    },
    "tags": []
   },
   "outputs": [],
   "source": [
    "#change to bool\n",
    "\n",
    "def change_bool_yes_no(df, column):\n",
    "    df[column] = df[column].map({'Yes': True, 1: True, 'No': False, 0: False})\n",
    "    return df\n",
    "\n",
    "travel_df = df.copy()\n",
    "change_bool_yes_no(travel_df,'GraduateOrNot')\n",
    "change_bool_yes_no(travel_df,'FrequentFlyer')\n",
    "change_bool_yes_no(travel_df,'EverTravelledAbroad')\n",
    "change_bool_yes_no(travel_df,'ChronicDiseases')\n",
    "change_bool_yes_no(travel_df,'TravelInsurance')\n",
    "\n",
    "travel_df.rename(columns = {'Employment Type' : 'EmploymentType'}, inplace = True)"
   ]
  },
  {
   "cell_type": "code",
   "execution_count": 5,
   "id": "e10b4431",
   "metadata": {
    "execution": {
     "iopub.execute_input": "2022-07-12T11:52:40.474356Z",
     "iopub.status.busy": "2022-07-12T11:52:40.473663Z",
     "iopub.status.idle": "2022-07-12T11:52:40.487037Z",
     "shell.execute_reply": "2022-07-12T11:52:40.485983Z"
    },
    "papermill": {
     "duration": 0.026095,
     "end_time": "2022-07-12T11:52:40.489484",
     "exception": false,
     "start_time": "2022-07-12T11:52:40.463389",
     "status": "completed"
    },
    "tags": []
   },
   "outputs": [
    {
     "data": {
      "text/html": [
       "<div>\n",
       "<style scoped>\n",
       "    .dataframe tbody tr th:only-of-type {\n",
       "        vertical-align: middle;\n",
       "    }\n",
       "\n",
       "    .dataframe tbody tr th {\n",
       "        vertical-align: top;\n",
       "    }\n",
       "\n",
       "    .dataframe thead th {\n",
       "        text-align: right;\n",
       "    }\n",
       "</style>\n",
       "<table border=\"1\" class=\"dataframe\">\n",
       "  <thead>\n",
       "    <tr style=\"text-align: right;\">\n",
       "      <th></th>\n",
       "      <th>Age</th>\n",
       "      <th>EmploymentType</th>\n",
       "      <th>GraduateOrNot</th>\n",
       "      <th>AnnualIncome</th>\n",
       "      <th>FamilyMembers</th>\n",
       "      <th>ChronicDiseases</th>\n",
       "      <th>FrequentFlyer</th>\n",
       "      <th>EverTravelledAbroad</th>\n",
       "      <th>TravelInsurance</th>\n",
       "    </tr>\n",
       "  </thead>\n",
       "  <tbody>\n",
       "    <tr>\n",
       "      <th>0</th>\n",
       "      <td>31</td>\n",
       "      <td>Government Sector</td>\n",
       "      <td>True</td>\n",
       "      <td>400000</td>\n",
       "      <td>6</td>\n",
       "      <td>True</td>\n",
       "      <td>False</td>\n",
       "      <td>False</td>\n",
       "      <td>False</td>\n",
       "    </tr>\n",
       "    <tr>\n",
       "      <th>1</th>\n",
       "      <td>31</td>\n",
       "      <td>Private Sector/Self Employed</td>\n",
       "      <td>True</td>\n",
       "      <td>1250000</td>\n",
       "      <td>7</td>\n",
       "      <td>False</td>\n",
       "      <td>False</td>\n",
       "      <td>False</td>\n",
       "      <td>False</td>\n",
       "    </tr>\n",
       "    <tr>\n",
       "      <th>2</th>\n",
       "      <td>34</td>\n",
       "      <td>Private Sector/Self Employed</td>\n",
       "      <td>True</td>\n",
       "      <td>500000</td>\n",
       "      <td>4</td>\n",
       "      <td>True</td>\n",
       "      <td>False</td>\n",
       "      <td>False</td>\n",
       "      <td>True</td>\n",
       "    </tr>\n",
       "    <tr>\n",
       "      <th>3</th>\n",
       "      <td>28</td>\n",
       "      <td>Private Sector/Self Employed</td>\n",
       "      <td>True</td>\n",
       "      <td>700000</td>\n",
       "      <td>3</td>\n",
       "      <td>True</td>\n",
       "      <td>False</td>\n",
       "      <td>False</td>\n",
       "      <td>False</td>\n",
       "    </tr>\n",
       "    <tr>\n",
       "      <th>4</th>\n",
       "      <td>28</td>\n",
       "      <td>Private Sector/Self Employed</td>\n",
       "      <td>True</td>\n",
       "      <td>700000</td>\n",
       "      <td>8</td>\n",
       "      <td>True</td>\n",
       "      <td>True</td>\n",
       "      <td>False</td>\n",
       "      <td>False</td>\n",
       "    </tr>\n",
       "  </tbody>\n",
       "</table>\n",
       "</div>"
      ],
      "text/plain": [
       "   Age                EmploymentType  GraduateOrNot  AnnualIncome  \\\n",
       "0   31             Government Sector           True        400000   \n",
       "1   31  Private Sector/Self Employed           True       1250000   \n",
       "2   34  Private Sector/Self Employed           True        500000   \n",
       "3   28  Private Sector/Self Employed           True        700000   \n",
       "4   28  Private Sector/Self Employed           True        700000   \n",
       "\n",
       "   FamilyMembers  ChronicDiseases  FrequentFlyer  EverTravelledAbroad  \\\n",
       "0              6             True          False                False   \n",
       "1              7            False          False                False   \n",
       "2              4             True          False                False   \n",
       "3              3             True          False                False   \n",
       "4              8             True           True                False   \n",
       "\n",
       "   TravelInsurance  \n",
       "0            False  \n",
       "1            False  \n",
       "2             True  \n",
       "3            False  \n",
       "4            False  "
      ]
     },
     "execution_count": 5,
     "metadata": {},
     "output_type": "execute_result"
    }
   ],
   "source": [
    "travel_df.head()"
   ]
  },
  {
   "cell_type": "code",
   "execution_count": 6,
   "id": "560e7eb8",
   "metadata": {
    "execution": {
     "iopub.execute_input": "2022-07-12T11:52:40.510281Z",
     "iopub.status.busy": "2022-07-12T11:52:40.509582Z",
     "iopub.status.idle": "2022-07-12T11:52:40.519573Z",
     "shell.execute_reply": "2022-07-12T11:52:40.518497Z"
    },
    "papermill": {
     "duration": 0.022921,
     "end_time": "2022-07-12T11:52:40.521869",
     "exception": false,
     "start_time": "2022-07-12T11:52:40.498948",
     "status": "completed"
    },
    "tags": []
   },
   "outputs": [
    {
     "data": {
      "text/plain": [
       "Age                    1987\n",
       "EmploymentType         1987\n",
       "GraduateOrNot          1987\n",
       "AnnualIncome           1987\n",
       "FamilyMembers          1987\n",
       "ChronicDiseases        1987\n",
       "FrequentFlyer          1987\n",
       "EverTravelledAbroad    1987\n",
       "TravelInsurance        1987\n",
       "dtype: int64"
      ]
     },
     "execution_count": 6,
     "metadata": {},
     "output_type": "execute_result"
    }
   ],
   "source": [
    "travel_df.count()"
   ]
  },
  {
   "cell_type": "code",
   "execution_count": 7,
   "id": "ddc230bd",
   "metadata": {
    "execution": {
     "iopub.execute_input": "2022-07-12T11:52:40.542532Z",
     "iopub.status.busy": "2022-07-12T11:52:40.541818Z",
     "iopub.status.idle": "2022-07-12T11:52:40.567675Z",
     "shell.execute_reply": "2022-07-12T11:52:40.566890Z"
    },
    "papermill": {
     "duration": 0.038743,
     "end_time": "2022-07-12T11:52:40.569787",
     "exception": false,
     "start_time": "2022-07-12T11:52:40.531044",
     "status": "completed"
    },
    "tags": []
   },
   "outputs": [
    {
     "data": {
      "text/html": [
       "<div>\n",
       "<style scoped>\n",
       "    .dataframe tbody tr th:only-of-type {\n",
       "        vertical-align: middle;\n",
       "    }\n",
       "\n",
       "    .dataframe tbody tr th {\n",
       "        vertical-align: top;\n",
       "    }\n",
       "\n",
       "    .dataframe thead th {\n",
       "        text-align: right;\n",
       "    }\n",
       "</style>\n",
       "<table border=\"1\" class=\"dataframe\">\n",
       "  <thead>\n",
       "    <tr style=\"text-align: right;\">\n",
       "      <th></th>\n",
       "      <th>Age</th>\n",
       "      <th>AnnualIncome</th>\n",
       "      <th>FamilyMembers</th>\n",
       "    </tr>\n",
       "  </thead>\n",
       "  <tbody>\n",
       "    <tr>\n",
       "      <th>count</th>\n",
       "      <td>1987.000000</td>\n",
       "      <td>1.987000e+03</td>\n",
       "      <td>1987.000000</td>\n",
       "    </tr>\n",
       "    <tr>\n",
       "      <th>mean</th>\n",
       "      <td>29.650226</td>\n",
       "      <td>9.327630e+05</td>\n",
       "      <td>4.752894</td>\n",
       "    </tr>\n",
       "    <tr>\n",
       "      <th>std</th>\n",
       "      <td>2.913308</td>\n",
       "      <td>3.768557e+05</td>\n",
       "      <td>1.609650</td>\n",
       "    </tr>\n",
       "    <tr>\n",
       "      <th>min</th>\n",
       "      <td>25.000000</td>\n",
       "      <td>3.000000e+05</td>\n",
       "      <td>2.000000</td>\n",
       "    </tr>\n",
       "    <tr>\n",
       "      <th>25%</th>\n",
       "      <td>28.000000</td>\n",
       "      <td>6.000000e+05</td>\n",
       "      <td>4.000000</td>\n",
       "    </tr>\n",
       "    <tr>\n",
       "      <th>50%</th>\n",
       "      <td>29.000000</td>\n",
       "      <td>9.000000e+05</td>\n",
       "      <td>5.000000</td>\n",
       "    </tr>\n",
       "    <tr>\n",
       "      <th>75%</th>\n",
       "      <td>32.000000</td>\n",
       "      <td>1.250000e+06</td>\n",
       "      <td>6.000000</td>\n",
       "    </tr>\n",
       "    <tr>\n",
       "      <th>max</th>\n",
       "      <td>35.000000</td>\n",
       "      <td>1.800000e+06</td>\n",
       "      <td>9.000000</td>\n",
       "    </tr>\n",
       "  </tbody>\n",
       "</table>\n",
       "</div>"
      ],
      "text/plain": [
       "               Age  AnnualIncome  FamilyMembers\n",
       "count  1987.000000  1.987000e+03    1987.000000\n",
       "mean     29.650226  9.327630e+05       4.752894\n",
       "std       2.913308  3.768557e+05       1.609650\n",
       "min      25.000000  3.000000e+05       2.000000\n",
       "25%      28.000000  6.000000e+05       4.000000\n",
       "50%      29.000000  9.000000e+05       5.000000\n",
       "75%      32.000000  1.250000e+06       6.000000\n",
       "max      35.000000  1.800000e+06       9.000000"
      ]
     },
     "execution_count": 7,
     "metadata": {},
     "output_type": "execute_result"
    }
   ],
   "source": [
    "travel_df.describe()"
   ]
  },
  {
   "cell_type": "code",
   "execution_count": 8,
   "id": "0bdc1773",
   "metadata": {
    "execution": {
     "iopub.execute_input": "2022-07-12T11:52:40.590684Z",
     "iopub.status.busy": "2022-07-12T11:52:40.590002Z",
     "iopub.status.idle": "2022-07-12T11:52:40.764192Z",
     "shell.execute_reply": "2022-07-12T11:52:40.762713Z"
    },
    "papermill": {
     "duration": 0.189425,
     "end_time": "2022-07-12T11:52:40.768573",
     "exception": false,
     "start_time": "2022-07-12T11:52:40.579148",
     "status": "completed"
    },
    "tags": []
   },
   "outputs": [
    {
     "data": {
      "text/plain": [
       "Text(0.5, 1.0, 'Customer percentage')"
      ]
     },
     "execution_count": 8,
     "metadata": {},
     "output_type": "execute_result"
    },
    {
     "data": {
      "image/png": "[encoded data removed]",
      "text/plain": [
       "<Figure size 432x288 with 1 Axes>"
      ]
     },
     "metadata": {},
     "output_type": "display_data"
    }
   ],
   "source": [
    "travel_df['TravelInsurance'].value_counts(normalize = True).plot.pie(labels=['non-customer','customer'],autopct=\"%1.f%%\")\n",
    "plt.title('Customer percentage')"
   ]
  },
  {
   "cell_type": "code",
   "execution_count": 9,
   "id": "1666e358",
   "metadata": {
    "execution": {
     "iopub.execute_input": "2022-07-12T11:52:40.811572Z",
     "iopub.status.busy": "2022-07-12T11:52:40.810359Z",
     "iopub.status.idle": "2022-07-12T11:52:40.956428Z",
     "shell.execute_reply": "2022-07-12T11:52:40.954843Z"
    },
    "papermill": {
     "duration": 0.172147,
     "end_time": "2022-07-12T11:52:40.960615",
     "exception": false,
     "start_time": "2022-07-12T11:52:40.788468",
     "status": "completed"
    },
    "tags": []
   },
   "outputs": [
    {
     "data": {
      "text/plain": [
       "Text(0.5, 1.0, 'Which sector is buying insurance more than other')"
      ]
     },
     "execution_count": 9,
     "metadata": {},
     "output_type": "execute_result"
    },
    {
     "data": {
      "image/png": "[encoded data removed]",
      "text/plain": [
       "<Figure size 432x288 with 1 Axes>"
      ]
     },
     "metadata": {},
     "output_type": "display_data"
    }
   ],
   "source": [
    "cus_df = travel_df.query('TravelInsurance == True')\n",
    "cus_df.groupby('EmploymentType')['TravelInsurance'].agg('count').plot.pie(autopct= '%1.f%%')\n",
    "plt.title('Which sector is buying insurance more than other')"
   ]
  },
  {
   "cell_type": "code",
   "execution_count": 10,
   "id": "977c7b37",
   "metadata": {
    "execution": {
     "iopub.execute_input": "2022-07-12T11:52:41.002680Z",
     "iopub.status.busy": "2022-07-12T11:52:41.001557Z",
     "iopub.status.idle": "2022-07-12T11:52:41.020713Z",
     "shell.execute_reply": "2022-07-12T11:52:41.019108Z"
    },
    "papermill": {
     "duration": 0.044754,
     "end_time": "2022-07-12T11:52:41.025242",
     "exception": false,
     "start_time": "2022-07-12T11:52:40.980488",
     "status": "completed"
    },
    "tags": []
   },
   "outputs": [
    {
     "data": {
      "text/plain": [
       "EmploymentType\n",
       "Government Sector                570\n",
       "Private Sector/Self Employed    1417\n",
       "Name: EmploymentType, dtype: int64"
      ]
     },
     "execution_count": 10,
     "metadata": {},
     "output_type": "execute_result"
    }
   ],
   "source": [
    "travel_df.groupby('EmploymentType')['EmploymentType'].count()"
   ]
  },
  {
   "cell_type": "code",
   "execution_count": 11,
   "id": "b863bc8a",
   "metadata": {
    "execution": {
     "iopub.execute_input": "2022-07-12T11:52:41.048175Z",
     "iopub.status.busy": "2022-07-12T11:52:41.047746Z",
     "iopub.status.idle": "2022-07-12T11:52:41.280779Z",
     "shell.execute_reply": "2022-07-12T11:52:41.279151Z"
    },
    "papermill": {
     "duration": 0.24998,
     "end_time": "2022-07-12T11:52:41.285548",
     "exception": false,
     "start_time": "2022-07-12T11:52:41.035568",
     "status": "completed"
    },
    "tags": []
   },
   "outputs": [
    {
     "data": {
      "text/plain": [
       "Text(0.5, 0.98, 'Compared customer percent per sector')"
      ]
     },
     "execution_count": 11,
     "metadata": {},
     "output_type": "execute_result"
    },
    {
     "data": {
      "image/png": "[encoded data removed]",
      "text/plain": [
       "<Figure size 720x360 with 2 Axes>"
      ]
     },
     "metadata": {},
     "output_type": "display_data"
    }
   ],
   "source": [
    "plt.figure(figsize = (10,5))\n",
    "plt.subplot(1,2,1)\n",
    "label = ['non-customer','customer']\n",
    "## pie chart for government\n",
    "gov_df = travel_df.query('EmploymentType == \"Government Sector\"')\n",
    "ax1 = gov_df['TravelInsurance'].value_counts(normalize = True).plot.pie(labels = label,autopct= '%1.f%%')\n",
    "plt.title('Government Sector')\n",
    "## pie chart for pivate segment\n",
    "plt.subplot(1,2,2)\n",
    "pri_df = travel_df.query('EmploymentType == \"Private Sector/Self Employed\"')\n",
    "ax2 = pri_df['TravelInsurance'].value_counts(normalize = True).plot.pie(labels = label,autopct='%1.f%%')\n",
    "plt.title('Private Sector')\n",
    "\n",
    "plt.suptitle('Compared customer percent per sector')"
   ]
  },
  {
   "cell_type": "code",
   "execution_count": 12,
   "id": "039457df",
   "metadata": {
    "execution": {
     "iopub.execute_input": "2022-07-12T11:52:41.324135Z",
     "iopub.status.busy": "2022-07-12T11:52:41.323396Z",
     "iopub.status.idle": "2022-07-12T11:52:41.343667Z",
     "shell.execute_reply": "2022-07-12T11:52:41.342911Z"
    },
    "papermill": {
     "duration": 0.039486,
     "end_time": "2022-07-12T11:52:41.345957",
     "exception": false,
     "start_time": "2022-07-12T11:52:41.306471",
     "status": "completed"
    },
    "tags": []
   },
   "outputs": [
    {
     "data": {
      "text/html": [
       "<div>\n",
       "<style scoped>\n",
       "    .dataframe tbody tr th:only-of-type {\n",
       "        vertical-align: middle;\n",
       "    }\n",
       "\n",
       "    .dataframe tbody tr th {\n",
       "        vertical-align: top;\n",
       "    }\n",
       "\n",
       "    .dataframe thead th {\n",
       "        text-align: right;\n",
       "    }\n",
       "</style>\n",
       "<table border=\"1\" class=\"dataframe\">\n",
       "  <thead>\n",
       "    <tr style=\"text-align: right;\">\n",
       "      <th></th>\n",
       "      <th>Age</th>\n",
       "      <th>GraduateOrNot</th>\n",
       "      <th>AnnualIncome</th>\n",
       "      <th>FamilyMembers</th>\n",
       "      <th>ChronicDiseases</th>\n",
       "      <th>FrequentFlyer</th>\n",
       "      <th>EverTravelledAbroad</th>\n",
       "    </tr>\n",
       "    <tr>\n",
       "      <th>TravelInsurance</th>\n",
       "      <th></th>\n",
       "      <th></th>\n",
       "      <th></th>\n",
       "      <th></th>\n",
       "      <th></th>\n",
       "      <th></th>\n",
       "      <th></th>\n",
       "    </tr>\n",
       "  </thead>\n",
       "  <tbody>\n",
       "    <tr>\n",
       "      <th>False</th>\n",
       "      <td>37694</td>\n",
       "      <td>1081</td>\n",
       "      <td>1048800000</td>\n",
       "      <td>5947</td>\n",
       "      <td>347</td>\n",
       "      <td>178</td>\n",
       "      <td>82</td>\n",
       "    </tr>\n",
       "    <tr>\n",
       "      <th>True</th>\n",
       "      <td>21221</td>\n",
       "      <td>611</td>\n",
       "      <td>804600000</td>\n",
       "      <td>3497</td>\n",
       "      <td>205</td>\n",
       "      <td>239</td>\n",
       "      <td>298</td>\n",
       "    </tr>\n",
       "  </tbody>\n",
       "</table>\n",
       "</div>"
      ],
      "text/plain": [
       "                   Age  GraduateOrNot  AnnualIncome  FamilyMembers  \\\n",
       "TravelInsurance                                                      \n",
       "False            37694           1081    1048800000           5947   \n",
       "True             21221            611     804600000           3497   \n",
       "\n",
       "                 ChronicDiseases  FrequentFlyer  EverTravelledAbroad  \n",
       "TravelInsurance                                                       \n",
       "False                        347            178                   82  \n",
       "True                         205            239                  298  "
      ]
     },
     "execution_count": 12,
     "metadata": {},
     "output_type": "execute_result"
    }
   ],
   "source": [
    "travel_df.groupby('TravelInsurance').sum()"
   ]
  },
  {
   "cell_type": "code",
   "execution_count": 13,
   "id": "6763f207",
   "metadata": {
    "execution": {
     "iopub.execute_input": "2022-07-12T11:52:41.371260Z",
     "iopub.status.busy": "2022-07-12T11:52:41.370411Z",
     "iopub.status.idle": "2022-07-12T11:52:41.387613Z",
     "shell.execute_reply": "2022-07-12T11:52:41.386706Z"
    },
    "papermill": {
     "duration": 0.032779,
     "end_time": "2022-07-12T11:52:41.390172",
     "exception": false,
     "start_time": "2022-07-12T11:52:41.357393",
     "status": "completed"
    },
    "tags": []
   },
   "outputs": [
    {
     "data": {
      "text/html": [
       "<div>\n",
       "<style scoped>\n",
       "    .dataframe tbody tr th:only-of-type {\n",
       "        vertical-align: middle;\n",
       "    }\n",
       "\n",
       "    .dataframe tbody tr th {\n",
       "        vertical-align: top;\n",
       "    }\n",
       "\n",
       "    .dataframe thead th {\n",
       "        text-align: right;\n",
       "    }\n",
       "</style>\n",
       "<table border=\"1\" class=\"dataframe\">\n",
       "  <thead>\n",
       "    <tr style=\"text-align: right;\">\n",
       "      <th></th>\n",
       "      <th>Age</th>\n",
       "      <th>EmploymentType</th>\n",
       "      <th>GraduateOrNot</th>\n",
       "      <th>AnnualIncome</th>\n",
       "      <th>FamilyMembers</th>\n",
       "      <th>ChronicDiseases</th>\n",
       "      <th>FrequentFlyer</th>\n",
       "      <th>EverTravelledAbroad</th>\n",
       "      <th>TravelInsurance</th>\n",
       "    </tr>\n",
       "  </thead>\n",
       "  <tbody>\n",
       "    <tr>\n",
       "      <th>0</th>\n",
       "      <td>31</td>\n",
       "      <td>Government Sector</td>\n",
       "      <td>True</td>\n",
       "      <td>400000</td>\n",
       "      <td>6</td>\n",
       "      <td>True</td>\n",
       "      <td>False</td>\n",
       "      <td>False</td>\n",
       "      <td>False</td>\n",
       "    </tr>\n",
       "    <tr>\n",
       "      <th>1</th>\n",
       "      <td>31</td>\n",
       "      <td>Private Sector/Self Employed</td>\n",
       "      <td>True</td>\n",
       "      <td>1250000</td>\n",
       "      <td>7</td>\n",
       "      <td>False</td>\n",
       "      <td>False</td>\n",
       "      <td>False</td>\n",
       "      <td>False</td>\n",
       "    </tr>\n",
       "    <tr>\n",
       "      <th>2</th>\n",
       "      <td>34</td>\n",
       "      <td>Private Sector/Self Employed</td>\n",
       "      <td>True</td>\n",
       "      <td>500000</td>\n",
       "      <td>4</td>\n",
       "      <td>True</td>\n",
       "      <td>False</td>\n",
       "      <td>False</td>\n",
       "      <td>True</td>\n",
       "    </tr>\n",
       "    <tr>\n",
       "      <th>3</th>\n",
       "      <td>28</td>\n",
       "      <td>Private Sector/Self Employed</td>\n",
       "      <td>True</td>\n",
       "      <td>700000</td>\n",
       "      <td>3</td>\n",
       "      <td>True</td>\n",
       "      <td>False</td>\n",
       "      <td>False</td>\n",
       "      <td>False</td>\n",
       "    </tr>\n",
       "    <tr>\n",
       "      <th>4</th>\n",
       "      <td>28</td>\n",
       "      <td>Private Sector/Self Employed</td>\n",
       "      <td>True</td>\n",
       "      <td>700000</td>\n",
       "      <td>8</td>\n",
       "      <td>True</td>\n",
       "      <td>True</td>\n",
       "      <td>False</td>\n",
       "      <td>False</td>\n",
       "    </tr>\n",
       "  </tbody>\n",
       "</table>\n",
       "</div>"
      ],
      "text/plain": [
       "   Age                EmploymentType  GraduateOrNot  AnnualIncome  \\\n",
       "0   31             Government Sector           True        400000   \n",
       "1   31  Private Sector/Self Employed           True       1250000   \n",
       "2   34  Private Sector/Self Employed           True        500000   \n",
       "3   28  Private Sector/Self Employed           True        700000   \n",
       "4   28  Private Sector/Self Employed           True        700000   \n",
       "\n",
       "   FamilyMembers  ChronicDiseases  FrequentFlyer  EverTravelledAbroad  \\\n",
       "0              6             True          False                False   \n",
       "1              7            False          False                False   \n",
       "2              4             True          False                False   \n",
       "3              3             True          False                False   \n",
       "4              8             True           True                False   \n",
       "\n",
       "   TravelInsurance  \n",
       "0            False  \n",
       "1            False  \n",
       "2             True  \n",
       "3            False  \n",
       "4            False  "
      ]
     },
     "execution_count": 13,
     "metadata": {},
     "output_type": "execute_result"
    }
   ],
   "source": [
    "travel_df.head()"
   ]
  },
  {
   "cell_type": "code",
   "execution_count": 14,
   "id": "1484365c",
   "metadata": {
    "execution": {
     "iopub.execute_input": "2022-07-12T11:52:41.416073Z",
     "iopub.status.busy": "2022-07-12T11:52:41.415269Z",
     "iopub.status.idle": "2022-07-12T11:52:41.429938Z",
     "shell.execute_reply": "2022-07-12T11:52:41.428811Z"
    },
    "papermill": {
     "duration": 0.03036,
     "end_time": "2022-07-12T11:52:41.432322",
     "exception": false,
     "start_time": "2022-07-12T11:52:41.401962",
     "status": "completed"
    },
    "tags": []
   },
   "outputs": [
    {
     "data": {
      "text/html": [
       "<div>\n",
       "<style scoped>\n",
       "    .dataframe tbody tr th:only-of-type {\n",
       "        vertical-align: middle;\n",
       "    }\n",
       "\n",
       "    .dataframe tbody tr th {\n",
       "        vertical-align: top;\n",
       "    }\n",
       "\n",
       "    .dataframe thead th {\n",
       "        text-align: right;\n",
       "    }\n",
       "</style>\n",
       "<table border=\"1\" class=\"dataframe\">\n",
       "  <thead>\n",
       "    <tr style=\"text-align: right;\">\n",
       "      <th></th>\n",
       "      <th>FrequentFlyer</th>\n",
       "      <th>EverTravelledAbroad</th>\n",
       "      <th>TravelInsurance</th>\n",
       "    </tr>\n",
       "  </thead>\n",
       "  <tbody>\n",
       "    <tr>\n",
       "      <th>0</th>\n",
       "      <td>False</td>\n",
       "      <td>False</td>\n",
       "      <td>321</td>\n",
       "    </tr>\n",
       "    <tr>\n",
       "      <th>1</th>\n",
       "      <td>False</td>\n",
       "      <td>True</td>\n",
       "      <td>150</td>\n",
       "    </tr>\n",
       "    <tr>\n",
       "      <th>2</th>\n",
       "      <td>True</td>\n",
       "      <td>False</td>\n",
       "      <td>91</td>\n",
       "    </tr>\n",
       "    <tr>\n",
       "      <th>3</th>\n",
       "      <td>True</td>\n",
       "      <td>True</td>\n",
       "      <td>148</td>\n",
       "    </tr>\n",
       "  </tbody>\n",
       "</table>\n",
       "</div>"
      ],
      "text/plain": [
       "   FrequentFlyer  EverTravelledAbroad  TravelInsurance\n",
       "0          False                False              321\n",
       "1          False                 True              150\n",
       "2           True                False               91\n",
       "3           True                 True              148"
      ]
     },
     "execution_count": 14,
     "metadata": {},
     "output_type": "execute_result"
    }
   ],
   "source": [
    "cus_bar = cus_df.groupby(['FrequentFlyer','EverTravelledAbroad'])['TravelInsurance'].count()\n",
    "cus_bar.reset_index()"
   ]
  },
  {
   "cell_type": "code",
   "execution_count": 15,
   "id": "9604a636",
   "metadata": {
    "execution": {
     "iopub.execute_input": "2022-07-12T11:52:41.457825Z",
     "iopub.status.busy": "2022-07-12T11:52:41.457037Z",
     "iopub.status.idle": "2022-07-12T11:52:41.475437Z",
     "shell.execute_reply": "2022-07-12T11:52:41.474286Z"
    },
    "papermill": {
     "duration": 0.03433,
     "end_time": "2022-07-12T11:52:41.478073",
     "exception": false,
     "start_time": "2022-07-12T11:52:41.443743",
     "status": "completed"
    },
    "tags": []
   },
   "outputs": [
    {
     "data": {
      "text/html": [
       "<div>\n",
       "<style scoped>\n",
       "    .dataframe tbody tr th:only-of-type {\n",
       "        vertical-align: middle;\n",
       "    }\n",
       "\n",
       "    .dataframe tbody tr th {\n",
       "        vertical-align: top;\n",
       "    }\n",
       "\n",
       "    .dataframe thead th {\n",
       "        text-align: right;\n",
       "    }\n",
       "</style>\n",
       "<table border=\"1\" class=\"dataframe\">\n",
       "  <thead>\n",
       "    <tr style=\"text-align: right;\">\n",
       "      <th></th>\n",
       "      <th>FrequentFlyer</th>\n",
       "      <th>EverTravelledAbroad</th>\n",
       "      <th>TravelInsurance</th>\n",
       "    </tr>\n",
       "  </thead>\n",
       "  <tbody>\n",
       "    <tr>\n",
       "      <th>0</th>\n",
       "      <td>False</td>\n",
       "      <td>False</td>\n",
       "      <td>1037</td>\n",
       "    </tr>\n",
       "    <tr>\n",
       "      <th>1</th>\n",
       "      <td>False</td>\n",
       "      <td>True</td>\n",
       "      <td>62</td>\n",
       "    </tr>\n",
       "    <tr>\n",
       "      <th>2</th>\n",
       "      <td>True</td>\n",
       "      <td>False</td>\n",
       "      <td>158</td>\n",
       "    </tr>\n",
       "    <tr>\n",
       "      <th>3</th>\n",
       "      <td>True</td>\n",
       "      <td>True</td>\n",
       "      <td>20</td>\n",
       "    </tr>\n",
       "  </tbody>\n",
       "</table>\n",
       "</div>"
      ],
      "text/plain": [
       "   FrequentFlyer  EverTravelledAbroad  TravelInsurance\n",
       "0          False                False             1037\n",
       "1          False                 True               62\n",
       "2           True                False              158\n",
       "3           True                 True               20"
      ]
     },
     "execution_count": 15,
     "metadata": {},
     "output_type": "execute_result"
    }
   ],
   "source": [
    "non_cus_df = travel_df.query('TravelInsurance == 0')\n",
    "non_cus_bar = non_cus_df.groupby(['FrequentFlyer','EverTravelledAbroad'])['TravelInsurance'].count()\n",
    "non_cus_bar.reset_index()"
   ]
  },
  {
   "cell_type": "code",
   "execution_count": 16,
   "id": "4491c637",
   "metadata": {
    "execution": {
     "iopub.execute_input": "2022-07-12T11:52:41.503628Z",
     "iopub.status.busy": "2022-07-12T11:52:41.503230Z",
     "iopub.status.idle": "2022-07-12T11:52:41.709513Z",
     "shell.execute_reply": "2022-07-12T11:52:41.708364Z"
    },
    "papermill": {
     "duration": 0.222296,
     "end_time": "2022-07-12T11:52:41.712203",
     "exception": false,
     "start_time": "2022-07-12T11:52:41.489907",
     "status": "completed"
    },
    "tags": []
   },
   "outputs": [
    {
     "data": {
      "image/png": "[encoded data removed]",
      "text/plain": [
       "<Figure size 432x288 with 1 Axes>"
      ]
     },
     "metadata": {
      "needs_background": "light"
     },
     "output_type": "display_data"
    }
   ],
   "source": [
    "x = ['no-flight,no-travel','no-filght,travel','flight,no-travel','flight,travel']\n",
    "X_axis= np.arange(len(x))\n",
    "plt.bar(X_axis - 0.2, cus_bar, 0.4, label= 'customer')\n",
    "plt.bar(X_axis + 0.2, non_cus_bar, 0.4, label= 'non-customer')\n",
    "\n",
    "plt.xticks(X_axis, x, rotation = 45)\n",
    "plt.title('Number of customer and non-customer for each travel habit')\n",
    "plt.legend()\n",
    "plt.show()"
   ]
  },
  {
   "cell_type": "markdown",
   "id": "ba4c74fe",
   "metadata": {
    "papermill": {
     "duration": 0.012631,
     "end_time": "2022-07-12T11:52:41.737203",
     "exception": false,
     "start_time": "2022-07-12T11:52:41.724572",
     "status": "completed"
    },
    "tags": []
   },
   "source": [
    "**Find the target group**"
   ]
  },
  {
   "cell_type": "code",
   "execution_count": 17,
   "id": "5e8f46f8",
   "metadata": {
    "execution": {
     "iopub.execute_input": "2022-07-12T11:52:41.763607Z",
     "iopub.status.busy": "2022-07-12T11:52:41.763183Z",
     "iopub.status.idle": "2022-07-12T11:52:41.783215Z",
     "shell.execute_reply": "2022-07-12T11:52:41.782008Z"
    },
    "papermill": {
     "duration": 0.036197,
     "end_time": "2022-07-12T11:52:41.785550",
     "exception": false,
     "start_time": "2022-07-12T11:52:41.749353",
     "status": "completed"
    },
    "tags": []
   },
   "outputs": [
    {
     "data": {
      "text/html": [
       "<div>\n",
       "<style scoped>\n",
       "    .dataframe tbody tr th:only-of-type {\n",
       "        vertical-align: middle;\n",
       "    }\n",
       "\n",
       "    .dataframe tbody tr th {\n",
       "        vertical-align: top;\n",
       "    }\n",
       "\n",
       "    .dataframe thead th {\n",
       "        text-align: right;\n",
       "    }\n",
       "</style>\n",
       "<table border=\"1\" class=\"dataframe\">\n",
       "  <thead>\n",
       "    <tr style=\"text-align: right;\">\n",
       "      <th></th>\n",
       "      <th>Age</th>\n",
       "      <th>EmploymentType</th>\n",
       "      <th>GraduateOrNot</th>\n",
       "      <th>AnnualIncome</th>\n",
       "      <th>FamilyMembers</th>\n",
       "      <th>ChronicDiseases</th>\n",
       "      <th>FrequentFlyer</th>\n",
       "      <th>EverTravelledAbroad</th>\n",
       "      <th>TravelInsurance</th>\n",
       "    </tr>\n",
       "  </thead>\n",
       "  <tbody>\n",
       "    <tr>\n",
       "      <th>7</th>\n",
       "      <td>31</td>\n",
       "      <td>Private Sector/Self Employed</td>\n",
       "      <td>True</td>\n",
       "      <td>1350000</td>\n",
       "      <td>3</td>\n",
       "      <td>False</td>\n",
       "      <td>True</td>\n",
       "      <td>True</td>\n",
       "      <td>True</td>\n",
       "    </tr>\n",
       "    <tr>\n",
       "      <th>8</th>\n",
       "      <td>28</td>\n",
       "      <td>Private Sector/Self Employed</td>\n",
       "      <td>True</td>\n",
       "      <td>1450000</td>\n",
       "      <td>6</td>\n",
       "      <td>True</td>\n",
       "      <td>True</td>\n",
       "      <td>True</td>\n",
       "      <td>True</td>\n",
       "    </tr>\n",
       "    <tr>\n",
       "      <th>11</th>\n",
       "      <td>26</td>\n",
       "      <td>Private Sector/Self Employed</td>\n",
       "      <td>True</td>\n",
       "      <td>1400000</td>\n",
       "      <td>5</td>\n",
       "      <td>False</td>\n",
       "      <td>True</td>\n",
       "      <td>True</td>\n",
       "      <td>True</td>\n",
       "    </tr>\n",
       "    <tr>\n",
       "      <th>13</th>\n",
       "      <td>31</td>\n",
       "      <td>Government Sector</td>\n",
       "      <td>True</td>\n",
       "      <td>1500000</td>\n",
       "      <td>6</td>\n",
       "      <td>False</td>\n",
       "      <td>True</td>\n",
       "      <td>True</td>\n",
       "      <td>True</td>\n",
       "    </tr>\n",
       "    <tr>\n",
       "      <th>19</th>\n",
       "      <td>34</td>\n",
       "      <td>Private Sector/Self Employed</td>\n",
       "      <td>True</td>\n",
       "      <td>1500000</td>\n",
       "      <td>2</td>\n",
       "      <td>False</td>\n",
       "      <td>True</td>\n",
       "      <td>True</td>\n",
       "      <td>True</td>\n",
       "    </tr>\n",
       "  </tbody>\n",
       "</table>\n",
       "</div>"
      ],
      "text/plain": [
       "    Age                EmploymentType  GraduateOrNot  AnnualIncome  \\\n",
       "7    31  Private Sector/Self Employed           True       1350000   \n",
       "8    28  Private Sector/Self Employed           True       1450000   \n",
       "11   26  Private Sector/Self Employed           True       1400000   \n",
       "13   31             Government Sector           True       1500000   \n",
       "19   34  Private Sector/Self Employed           True       1500000   \n",
       "\n",
       "    FamilyMembers  ChronicDiseases  FrequentFlyer  EverTravelledAbroad  \\\n",
       "7               3            False           True                 True   \n",
       "8               6             True           True                 True   \n",
       "11              5            False           True                 True   \n",
       "13              6            False           True                 True   \n",
       "19              2            False           True                 True   \n",
       "\n",
       "    TravelInsurance  \n",
       "7              True  \n",
       "8              True  \n",
       "11             True  \n",
       "13             True  \n",
       "19             True  "
      ]
     },
     "execution_count": 17,
     "metadata": {},
     "output_type": "execute_result"
    }
   ],
   "source": [
    "##select cus from travel habit(Frequent flyer and Ever travelled abroad)\n",
    "cus_by_fight_travel = travel_df.query('FrequentFlyer == True & EverTravelledAbroad == True & TravelInsurance == True').copy()\n",
    "cus_by_fight_travel.head()"
   ]
  },
  {
   "cell_type": "code",
   "execution_count": 18,
   "id": "fcd4e0ce",
   "metadata": {
    "execution": {
     "iopub.execute_input": "2022-07-12T11:52:41.813922Z",
     "iopub.status.busy": "2022-07-12T11:52:41.813159Z",
     "iopub.status.idle": "2022-07-12T11:52:41.832294Z",
     "shell.execute_reply": "2022-07-12T11:52:41.831511Z"
    },
    "papermill": {
     "duration": 0.035857,
     "end_time": "2022-07-12T11:52:41.834564",
     "exception": false,
     "start_time": "2022-07-12T11:52:41.798707",
     "status": "completed"
    },
    "tags": []
   },
   "outputs": [
    {
     "data": {
      "text/html": [
       "<div>\n",
       "<style scoped>\n",
       "    .dataframe tbody tr th:only-of-type {\n",
       "        vertical-align: middle;\n",
       "    }\n",
       "\n",
       "    .dataframe tbody tr th {\n",
       "        vertical-align: top;\n",
       "    }\n",
       "\n",
       "    .dataframe thead th {\n",
       "        text-align: right;\n",
       "    }\n",
       "</style>\n",
       "<table border=\"1\" class=\"dataframe\">\n",
       "  <thead>\n",
       "    <tr style=\"text-align: right;\">\n",
       "      <th></th>\n",
       "      <th>Age</th>\n",
       "      <th>AnnualIncome</th>\n",
       "      <th>FamilyMembers</th>\n",
       "      <th>TravelInsurance</th>\n",
       "    </tr>\n",
       "  </thead>\n",
       "  <tbody>\n",
       "    <tr>\n",
       "      <th>9</th>\n",
       "      <td>34</td>\n",
       "      <td>1.469565e+06</td>\n",
       "      <td>4.565217</td>\n",
       "      <td>46</td>\n",
       "    </tr>\n",
       "    <tr>\n",
       "      <th>1</th>\n",
       "      <td>26</td>\n",
       "      <td>1.475000e+06</td>\n",
       "      <td>4.357143</td>\n",
       "      <td>28</td>\n",
       "    </tr>\n",
       "    <tr>\n",
       "      <th>6</th>\n",
       "      <td>31</td>\n",
       "      <td>1.428947e+06</td>\n",
       "      <td>4.210526</td>\n",
       "      <td>19</td>\n",
       "    </tr>\n",
       "    <tr>\n",
       "      <th>3</th>\n",
       "      <td>28</td>\n",
       "      <td>1.400000e+06</td>\n",
       "      <td>5.133333</td>\n",
       "      <td>15</td>\n",
       "    </tr>\n",
       "    <tr>\n",
       "      <th>0</th>\n",
       "      <td>25</td>\n",
       "      <td>1.423077e+06</td>\n",
       "      <td>4.692308</td>\n",
       "      <td>13</td>\n",
       "    </tr>\n",
       "    <tr>\n",
       "      <th>8</th>\n",
       "      <td>33</td>\n",
       "      <td>1.476923e+06</td>\n",
       "      <td>4.923077</td>\n",
       "      <td>13</td>\n",
       "    </tr>\n",
       "    <tr>\n",
       "      <th>5</th>\n",
       "      <td>30</td>\n",
       "      <td>1.450000e+06</td>\n",
       "      <td>5.181818</td>\n",
       "      <td>11</td>\n",
       "    </tr>\n",
       "    <tr>\n",
       "      <th>2</th>\n",
       "      <td>27</td>\n",
       "      <td>8.500000e+05</td>\n",
       "      <td>4.000000</td>\n",
       "      <td>1</td>\n",
       "    </tr>\n",
       "    <tr>\n",
       "      <th>4</th>\n",
       "      <td>29</td>\n",
       "      <td>1.350000e+06</td>\n",
       "      <td>4.000000</td>\n",
       "      <td>1</td>\n",
       "    </tr>\n",
       "    <tr>\n",
       "      <th>7</th>\n",
       "      <td>32</td>\n",
       "      <td>8.500000e+05</td>\n",
       "      <td>7.000000</td>\n",
       "      <td>1</td>\n",
       "    </tr>\n",
       "  </tbody>\n",
       "</table>\n",
       "</div>"
      ],
      "text/plain": [
       "   Age  AnnualIncome  FamilyMembers  TravelInsurance\n",
       "9   34  1.469565e+06       4.565217               46\n",
       "1   26  1.475000e+06       4.357143               28\n",
       "6   31  1.428947e+06       4.210526               19\n",
       "3   28  1.400000e+06       5.133333               15\n",
       "0   25  1.423077e+06       4.692308               13\n",
       "8   33  1.476923e+06       4.923077               13\n",
       "5   30  1.450000e+06       5.181818               11\n",
       "2   27  8.500000e+05       4.000000                1\n",
       "4   29  1.350000e+06       4.000000                1\n",
       "7   32  8.500000e+05       7.000000                1"
      ]
     },
     "execution_count": 18,
     "metadata": {},
     "output_type": "execute_result"
    }
   ],
   "source": [
    "#compare group by age and fam\n",
    "age_cus_by_fight_travel = cus_by_fight_travel.copy()\n",
    "age_cus_by_fight_travel = age_cus_by_fight_travel.groupby('Age').agg({'AnnualIncome':'mean','FamilyMembers':'mean','TravelInsurance':'sum'}).reset_index()\n",
    "age_cus_by_fight_travel.sort_values('TravelInsurance', ascending = False)"
   ]
  },
  {
   "cell_type": "code",
   "execution_count": 19,
   "id": "aa394af1",
   "metadata": {
    "execution": {
     "iopub.execute_input": "2022-07-12T11:52:41.862629Z",
     "iopub.status.busy": "2022-07-12T11:52:41.861944Z",
     "iopub.status.idle": "2022-07-12T11:52:41.878264Z",
     "shell.execute_reply": "2022-07-12T11:52:41.877374Z"
    },
    "papermill": {
     "duration": 0.033351,
     "end_time": "2022-07-12T11:52:41.880625",
     "exception": false,
     "start_time": "2022-07-12T11:52:41.847274",
     "status": "completed"
    },
    "tags": []
   },
   "outputs": [
    {
     "data": {
      "text/html": [
       "<div>\n",
       "<style scoped>\n",
       "    .dataframe tbody tr th:only-of-type {\n",
       "        vertical-align: middle;\n",
       "    }\n",
       "\n",
       "    .dataframe tbody tr th {\n",
       "        vertical-align: top;\n",
       "    }\n",
       "\n",
       "    .dataframe thead th {\n",
       "        text-align: right;\n",
       "    }\n",
       "</style>\n",
       "<table border=\"1\" class=\"dataframe\">\n",
       "  <thead>\n",
       "    <tr style=\"text-align: right;\">\n",
       "      <th></th>\n",
       "      <th>FamilyMembers</th>\n",
       "      <th>AnnualIncome</th>\n",
       "      <th>Age</th>\n",
       "      <th>TravelInsurance</th>\n",
       "    </tr>\n",
       "  </thead>\n",
       "  <tbody>\n",
       "    <tr>\n",
       "      <th>0</th>\n",
       "      <td>5</td>\n",
       "      <td>1.475000e+06</td>\n",
       "      <td>29.789474</td>\n",
       "      <td>38</td>\n",
       "    </tr>\n",
       "    <tr>\n",
       "      <th>1</th>\n",
       "      <td>3</td>\n",
       "      <td>1.450000e+06</td>\n",
       "      <td>30.242424</td>\n",
       "      <td>33</td>\n",
       "    </tr>\n",
       "    <tr>\n",
       "      <th>2</th>\n",
       "      <td>4</td>\n",
       "      <td>1.451613e+06</td>\n",
       "      <td>30.290323</td>\n",
       "      <td>31</td>\n",
       "    </tr>\n",
       "    <tr>\n",
       "      <th>3</th>\n",
       "      <td>6</td>\n",
       "      <td>1.411364e+06</td>\n",
       "      <td>30.454545</td>\n",
       "      <td>22</td>\n",
       "    </tr>\n",
       "    <tr>\n",
       "      <th>4</th>\n",
       "      <td>7</td>\n",
       "      <td>1.350000e+06</td>\n",
       "      <td>30.307692</td>\n",
       "      <td>13</td>\n",
       "    </tr>\n",
       "    <tr>\n",
       "      <th>5</th>\n",
       "      <td>2</td>\n",
       "      <td>1.492857e+06</td>\n",
       "      <td>30.714286</td>\n",
       "      <td>7</td>\n",
       "    </tr>\n",
       "    <tr>\n",
       "      <th>6</th>\n",
       "      <td>9</td>\n",
       "      <td>1.450000e+06</td>\n",
       "      <td>31.250000</td>\n",
       "      <td>4</td>\n",
       "    </tr>\n",
       "  </tbody>\n",
       "</table>\n",
       "</div>"
      ],
      "text/plain": [
       "   FamilyMembers  AnnualIncome        Age  TravelInsurance\n",
       "0              5  1.475000e+06  29.789474               38\n",
       "1              3  1.450000e+06  30.242424               33\n",
       "2              4  1.451613e+06  30.290323               31\n",
       "3              6  1.411364e+06  30.454545               22\n",
       "4              7  1.350000e+06  30.307692               13\n",
       "5              2  1.492857e+06  30.714286                7\n",
       "6              9  1.450000e+06  31.250000                4"
      ]
     },
     "execution_count": 19,
     "metadata": {},
     "output_type": "execute_result"
    }
   ],
   "source": [
    "fam_cus_by_fight_travel = cus_by_fight_travel.groupby('FamilyMembers').agg({'AnnualIncome':'mean','Age':'mean','TravelInsurance':'sum'}).copy()\n",
    "fam_cus_by_fight_travel = fam_cus_by_fight_travel.sort_values('TravelInsurance', ascending = False).reset_index()\n",
    "fam_cus_by_fight_travel"
   ]
  },
  {
   "cell_type": "code",
   "execution_count": 20,
   "id": "b5da96ed",
   "metadata": {
    "execution": {
     "iopub.execute_input": "2022-07-12T11:52:41.909459Z",
     "iopub.status.busy": "2022-07-12T11:52:41.908737Z",
     "iopub.status.idle": "2022-07-12T11:52:41.925958Z",
     "shell.execute_reply": "2022-07-12T11:52:41.924680Z"
    },
    "papermill": {
     "duration": 0.034773,
     "end_time": "2022-07-12T11:52:41.928394",
     "exception": false,
     "start_time": "2022-07-12T11:52:41.893621",
     "status": "completed"
    },
    "tags": []
   },
   "outputs": [
    {
     "data": {
      "text/html": [
       "<div>\n",
       "<style scoped>\n",
       "    .dataframe tbody tr th:only-of-type {\n",
       "        vertical-align: middle;\n",
       "    }\n",
       "\n",
       "    .dataframe tbody tr th {\n",
       "        vertical-align: top;\n",
       "    }\n",
       "\n",
       "    .dataframe thead th {\n",
       "        text-align: right;\n",
       "    }\n",
       "</style>\n",
       "<table border=\"1\" class=\"dataframe\">\n",
       "  <thead>\n",
       "    <tr style=\"text-align: right;\">\n",
       "      <th></th>\n",
       "      <th>EmploymentType</th>\n",
       "      <th>Age</th>\n",
       "      <th>AnnualIncome</th>\n",
       "      <th>FamilyMembers</th>\n",
       "      <th>TravelInsurance</th>\n",
       "    </tr>\n",
       "  </thead>\n",
       "  <tbody>\n",
       "    <tr>\n",
       "      <th>0</th>\n",
       "      <td>Private Sector/Self Employed</td>\n",
       "      <td>30.378788</td>\n",
       "      <td>1.449621e+06</td>\n",
       "      <td>4.651515</td>\n",
       "      <td>132</td>\n",
       "    </tr>\n",
       "    <tr>\n",
       "      <th>1</th>\n",
       "      <td>Government Sector</td>\n",
       "      <td>28.937500</td>\n",
       "      <td>1.400000e+06</td>\n",
       "      <td>4.500000</td>\n",
       "      <td>16</td>\n",
       "    </tr>\n",
       "  </tbody>\n",
       "</table>\n",
       "</div>"
      ],
      "text/plain": [
       "                 EmploymentType        Age  AnnualIncome  FamilyMembers  \\\n",
       "0  Private Sector/Self Employed  30.378788  1.449621e+06       4.651515   \n",
       "1             Government Sector  28.937500  1.400000e+06       4.500000   \n",
       "\n",
       "   TravelInsurance  \n",
       "0              132  \n",
       "1               16  "
      ]
     },
     "execution_count": 20,
     "metadata": {},
     "output_type": "execute_result"
    }
   ],
   "source": [
    "employ_cus_by_fight_travel = cus_by_fight_travel.groupby('EmploymentType').agg({'Age':'mean','AnnualIncome':'mean','FamilyMembers':'mean','TravelInsurance':'sum'}).copy()\n",
    "employ_cus_by_fight_travel = employ_cus_by_fight_travel.sort_values('TravelInsurance', ascending = False).reset_index()\n",
    "employ_cus_by_fight_travel"
   ]
  },
  {
   "cell_type": "code",
   "execution_count": 21,
   "id": "81d43394",
   "metadata": {
    "execution": {
     "iopub.execute_input": "2022-07-12T11:52:41.956369Z",
     "iopub.status.busy": "2022-07-12T11:52:41.955940Z",
     "iopub.status.idle": "2022-07-12T11:52:41.971604Z",
     "shell.execute_reply": "2022-07-12T11:52:41.970769Z"
    },
    "papermill": {
     "duration": 0.032297,
     "end_time": "2022-07-12T11:52:41.973836",
     "exception": false,
     "start_time": "2022-07-12T11:52:41.941539",
     "status": "completed"
    },
    "tags": []
   },
   "outputs": [
    {
     "data": {
      "text/html": [
       "<div>\n",
       "<style scoped>\n",
       "    .dataframe tbody tr th:only-of-type {\n",
       "        vertical-align: middle;\n",
       "    }\n",
       "\n",
       "    .dataframe tbody tr th {\n",
       "        vertical-align: top;\n",
       "    }\n",
       "\n",
       "    .dataframe thead th {\n",
       "        text-align: right;\n",
       "    }\n",
       "</style>\n",
       "<table border=\"1\" class=\"dataframe\">\n",
       "  <thead>\n",
       "    <tr style=\"text-align: right;\">\n",
       "      <th></th>\n",
       "      <th>EmploymentType</th>\n",
       "      <th>Age</th>\n",
       "      <th>AnnualIncome</th>\n",
       "      <th>FamilyMembers</th>\n",
       "      <th>TravelInsurance</th>\n",
       "    </tr>\n",
       "  </thead>\n",
       "  <tbody>\n",
       "    <tr>\n",
       "      <th>0</th>\n",
       "      <td>Private Sector/Self Employed</td>\n",
       "      <td>30.378788</td>\n",
       "      <td>1.449621e+06</td>\n",
       "      <td>4.651515</td>\n",
       "      <td>132</td>\n",
       "    </tr>\n",
       "  </tbody>\n",
       "</table>\n",
       "</div>"
      ],
      "text/plain": [
       "                 EmploymentType        Age  AnnualIncome  FamilyMembers  \\\n",
       "0  Private Sector/Self Employed  30.378788  1.449621e+06       4.651515   \n",
       "\n",
       "   TravelInsurance  \n",
       "0              132  "
      ]
     },
     "execution_count": 21,
     "metadata": {},
     "output_type": "execute_result"
    }
   ],
   "source": [
    "#target group \n",
    "target_group = employ_cus_by_fight_travel.query('EmploymentType == \"Private Sector/Self Employed\"')\n",
    "target_group"
   ]
  },
  {
   "cell_type": "code",
   "execution_count": 22,
   "id": "81bbb28a",
   "metadata": {
    "execution": {
     "iopub.execute_input": "2022-07-12T11:52:42.003340Z",
     "iopub.status.busy": "2022-07-12T11:52:42.002917Z",
     "iopub.status.idle": "2022-07-12T11:52:42.020688Z",
     "shell.execute_reply": "2022-07-12T11:52:42.019581Z"
    },
    "papermill": {
     "duration": 0.035277,
     "end_time": "2022-07-12T11:52:42.023254",
     "exception": false,
     "start_time": "2022-07-12T11:52:41.987977",
     "status": "completed"
    },
    "tags": []
   },
   "outputs": [
    {
     "data": {
      "text/html": [
       "<div>\n",
       "<style scoped>\n",
       "    .dataframe tbody tr th:only-of-type {\n",
       "        vertical-align: middle;\n",
       "    }\n",
       "\n",
       "    .dataframe tbody tr th {\n",
       "        vertical-align: top;\n",
       "    }\n",
       "\n",
       "    .dataframe thead th {\n",
       "        text-align: right;\n",
       "    }\n",
       "</style>\n",
       "<table border=\"1\" class=\"dataframe\">\n",
       "  <thead>\n",
       "    <tr style=\"text-align: right;\">\n",
       "      <th></th>\n",
       "      <th>AnnualIncome</th>\n",
       "      <th>FamilyMembers</th>\n",
       "      <th>TravelInsurance</th>\n",
       "    </tr>\n",
       "    <tr>\n",
       "      <th>Age</th>\n",
       "      <th></th>\n",
       "      <th></th>\n",
       "      <th></th>\n",
       "    </tr>\n",
       "  </thead>\n",
       "  <tbody>\n",
       "    <tr>\n",
       "      <th>34</th>\n",
       "      <td>1.177820e+06</td>\n",
       "      <td>5.398496</td>\n",
       "      <td>133</td>\n",
       "    </tr>\n",
       "    <tr>\n",
       "      <th>28</th>\n",
       "      <td>9.438095e+05</td>\n",
       "      <td>4.685714</td>\n",
       "      <td>105</td>\n",
       "    </tr>\n",
       "    <tr>\n",
       "      <th>25</th>\n",
       "      <td>1.461413e+06</td>\n",
       "      <td>4.543478</td>\n",
       "      <td>92</td>\n",
       "    </tr>\n",
       "    <tr>\n",
       "      <th>33</th>\n",
       "      <td>1.000000e+06</td>\n",
       "      <td>5.435897</td>\n",
       "      <td>78</td>\n",
       "    </tr>\n",
       "    <tr>\n",
       "      <th>31</th>\n",
       "      <td>1.299333e+06</td>\n",
       "      <td>4.506667</td>\n",
       "      <td>75</td>\n",
       "    </tr>\n",
       "    <tr>\n",
       "      <th>26</th>\n",
       "      <td>1.312838e+06</td>\n",
       "      <td>4.756757</td>\n",
       "      <td>74</td>\n",
       "    </tr>\n",
       "    <tr>\n",
       "      <th>29</th>\n",
       "      <td>1.000980e+06</td>\n",
       "      <td>5.000000</td>\n",
       "      <td>51</td>\n",
       "    </tr>\n",
       "    <tr>\n",
       "      <th>30</th>\n",
       "      <td>9.750000e+05</td>\n",
       "      <td>4.714286</td>\n",
       "      <td>28</td>\n",
       "    </tr>\n",
       "    <tr>\n",
       "      <th>35</th>\n",
       "      <td>8.857143e+05</td>\n",
       "      <td>5.500000</td>\n",
       "      <td>28</td>\n",
       "    </tr>\n",
       "    <tr>\n",
       "      <th>27</th>\n",
       "      <td>8.851852e+05</td>\n",
       "      <td>4.185185</td>\n",
       "      <td>27</td>\n",
       "    </tr>\n",
       "    <tr>\n",
       "      <th>32</th>\n",
       "      <td>7.763158e+05</td>\n",
       "      <td>5.315789</td>\n",
       "      <td>19</td>\n",
       "    </tr>\n",
       "  </tbody>\n",
       "</table>\n",
       "</div>"
      ],
      "text/plain": [
       "     AnnualIncome  FamilyMembers  TravelInsurance\n",
       "Age                                              \n",
       "34   1.177820e+06       5.398496              133\n",
       "28   9.438095e+05       4.685714              105\n",
       "25   1.461413e+06       4.543478               92\n",
       "33   1.000000e+06       5.435897               78\n",
       "31   1.299333e+06       4.506667               75\n",
       "26   1.312838e+06       4.756757               74\n",
       "29   1.000980e+06       5.000000               51\n",
       "30   9.750000e+05       4.714286               28\n",
       "35   8.857143e+05       5.500000               28\n",
       "27   8.851852e+05       4.185185               27\n",
       "32   7.763158e+05       5.315789               19"
      ]
     },
     "execution_count": 22,
     "metadata": {},
     "output_type": "execute_result"
    }
   ],
   "source": [
    "#which age is has the most customer\n",
    "cus_df.groupby('Age').agg({'AnnualIncome':'mean','FamilyMembers':'mean','TravelInsurance':'sum'}).sort_values('TravelInsurance', ascending = False)"
   ]
  },
  {
   "cell_type": "code",
   "execution_count": 23,
   "id": "52928be8",
   "metadata": {
    "execution": {
     "iopub.execute_input": "2022-07-12T11:52:42.053456Z",
     "iopub.status.busy": "2022-07-12T11:52:42.052695Z",
     "iopub.status.idle": "2022-07-12T11:52:42.259577Z",
     "shell.execute_reply": "2022-07-12T11:52:42.258788Z"
    },
    "papermill": {
     "duration": 0.225105,
     "end_time": "2022-07-12T11:52:42.261936",
     "exception": false,
     "start_time": "2022-07-12T11:52:42.036831",
     "status": "completed"
    },
    "tags": []
   },
   "outputs": [
    {
     "data": {
      "text/plain": [
       "Text(0.5, 1.0, 'Relation between Age and Insurance bought')"
      ]
     },
     "execution_count": 23,
     "metadata": {},
     "output_type": "execute_result"
    },
    {
     "data": {
      "image/png": "[encoded data removed]",
      "text/plain": [
       "<Figure size 432x288 with 1 Axes>"
      ]
     },
     "metadata": {
      "needs_background": "light"
     },
     "output_type": "display_data"
    }
   ],
   "source": [
    "#relation between age and insurance bought\n",
    "cus_by_age = travel_df.groupby('Age').agg({'AnnualIncome':'mean','FamilyMembers':'mean','TravelInsurance':'sum'}).sort_values('TravelInsurance', ascending = False)\n",
    "cus_by_age = cus_by_age.reset_index()\n",
    "\n",
    "sns.regplot(data= cus_by_age,x='Age',y='TravelInsurance', ci = None)\n",
    "plt.title('Relation between Age and Insurance bought')"
   ]
  },
  {
   "cell_type": "code",
   "execution_count": 24,
   "id": "8d025072",
   "metadata": {
    "execution": {
     "iopub.execute_input": "2022-07-12T11:52:42.292855Z",
     "iopub.status.busy": "2022-07-12T11:52:42.292132Z",
     "iopub.status.idle": "2022-07-12T11:52:42.310908Z",
     "shell.execute_reply": "2022-07-12T11:52:42.310042Z"
    },
    "papermill": {
     "duration": 0.03689,
     "end_time": "2022-07-12T11:52:42.313247",
     "exception": false,
     "start_time": "2022-07-12T11:52:42.276357",
     "status": "completed"
    },
    "tags": []
   },
   "outputs": [
    {
     "data": {
      "text/html": [
       "<div>\n",
       "<style scoped>\n",
       "    .dataframe tbody tr th:only-of-type {\n",
       "        vertical-align: middle;\n",
       "    }\n",
       "\n",
       "    .dataframe tbody tr th {\n",
       "        vertical-align: top;\n",
       "    }\n",
       "\n",
       "    .dataframe thead th {\n",
       "        text-align: right;\n",
       "    }\n",
       "</style>\n",
       "<table border=\"1\" class=\"dataframe\">\n",
       "  <thead>\n",
       "    <tr style=\"text-align: right;\">\n",
       "      <th></th>\n",
       "      <th>FamilyMembers</th>\n",
       "      <th>Age</th>\n",
       "      <th>AnnualIncome</th>\n",
       "      <th>TravelInsurance</th>\n",
       "    </tr>\n",
       "  </thead>\n",
       "  <tbody>\n",
       "    <tr>\n",
       "      <th>0</th>\n",
       "      <td>4</td>\n",
       "      <td>29.381250</td>\n",
       "      <td>1.155625e+06</td>\n",
       "      <td>160</td>\n",
       "    </tr>\n",
       "    <tr>\n",
       "      <th>1</th>\n",
       "      <td>3</td>\n",
       "      <td>29.429630</td>\n",
       "      <td>1.156667e+06</td>\n",
       "      <td>135</td>\n",
       "    </tr>\n",
       "    <tr>\n",
       "      <th>2</th>\n",
       "      <td>5</td>\n",
       "      <td>29.251908</td>\n",
       "      <td>1.187405e+06</td>\n",
       "      <td>131</td>\n",
       "    </tr>\n",
       "    <tr>\n",
       "      <th>3</th>\n",
       "      <td>6</td>\n",
       "      <td>30.782946</td>\n",
       "      <td>1.115116e+06</td>\n",
       "      <td>129</td>\n",
       "    </tr>\n",
       "    <tr>\n",
       "      <th>4</th>\n",
       "      <td>7</td>\n",
       "      <td>31.037037</td>\n",
       "      <td>1.042593e+06</td>\n",
       "      <td>81</td>\n",
       "    </tr>\n",
       "    <tr>\n",
       "      <th>5</th>\n",
       "      <td>2</td>\n",
       "      <td>28.666667</td>\n",
       "      <td>1.192593e+06</td>\n",
       "      <td>27</td>\n",
       "    </tr>\n",
       "    <tr>\n",
       "      <th>6</th>\n",
       "      <td>9</td>\n",
       "      <td>30.192308</td>\n",
       "      <td>1.042308e+06</td>\n",
       "      <td>26</td>\n",
       "    </tr>\n",
       "    <tr>\n",
       "      <th>7</th>\n",
       "      <td>8</td>\n",
       "      <td>31.952381</td>\n",
       "      <td>9.714286e+05</td>\n",
       "      <td>21</td>\n",
       "    </tr>\n",
       "  </tbody>\n",
       "</table>\n",
       "</div>"
      ],
      "text/plain": [
       "   FamilyMembers        Age  AnnualIncome  TravelInsurance\n",
       "0              4  29.381250  1.155625e+06              160\n",
       "1              3  29.429630  1.156667e+06              135\n",
       "2              5  29.251908  1.187405e+06              131\n",
       "3              6  30.782946  1.115116e+06              129\n",
       "4              7  31.037037  1.042593e+06               81\n",
       "5              2  28.666667  1.192593e+06               27\n",
       "6              9  30.192308  1.042308e+06               26\n",
       "7              8  31.952381  9.714286e+05               21"
      ]
     },
     "execution_count": 24,
     "metadata": {},
     "output_type": "execute_result"
    }
   ],
   "source": [
    "#Do family member effect insurance bought\n",
    "cus_by_fam = cus_df.groupby('FamilyMembers').agg({'Age':'mean','AnnualIncome':'mean','TravelInsurance':'sum'}).sort_values('TravelInsurance', ascending = False)\n",
    "cus_by_fam = cus_by_fam.reset_index()\n",
    "cus_by_fam"
   ]
  },
  {
   "cell_type": "code",
   "execution_count": 25,
   "id": "de178d2e",
   "metadata": {
    "execution": {
     "iopub.execute_input": "2022-07-12T11:52:42.343697Z",
     "iopub.status.busy": "2022-07-12T11:52:42.343295Z",
     "iopub.status.idle": "2022-07-12T11:52:42.562949Z",
     "shell.execute_reply": "2022-07-12T11:52:42.561644Z"
    },
    "papermill": {
     "duration": 0.238124,
     "end_time": "2022-07-12T11:52:42.565588",
     "exception": false,
     "start_time": "2022-07-12T11:52:42.327464",
     "status": "completed"
    },
    "tags": []
   },
   "outputs": [
    {
     "data": {
      "text/plain": [
       "Text(0.5, 1.0, 'Relation between Family members and Insurance')"
      ]
     },
     "execution_count": 25,
     "metadata": {},
     "output_type": "execute_result"
    },
    {
     "data": {
      "image/png": "[encoded data removed]",
      "text/plain": [
       "<Figure size 432x288 with 1 Axes>"
      ]
     },
     "metadata": {
      "needs_background": "light"
     },
     "output_type": "display_data"
    }
   ],
   "source": [
    "sns.regplot(data=cus_by_fam, x='FamilyMembers',y='TravelInsurance', ci = None)\n",
    "plt.title('Relation between Family members and Insurance')"
   ]
  },
  {
   "cell_type": "code",
   "execution_count": 26,
   "id": "487cdabb",
   "metadata": {
    "execution": {
     "iopub.execute_input": "2022-07-12T11:52:42.597942Z",
     "iopub.status.busy": "2022-07-12T11:52:42.596884Z",
     "iopub.status.idle": "2022-07-12T11:52:42.809096Z",
     "shell.execute_reply": "2022-07-12T11:52:42.807954Z"
    },
    "papermill": {
     "duration": 0.230915,
     "end_time": "2022-07-12T11:52:42.811557",
     "exception": false,
     "start_time": "2022-07-12T11:52:42.580642",
     "status": "completed"
    },
    "tags": []
   },
   "outputs": [
    {
     "data": {
      "text/plain": [
       "Text(0.5, 1.0, 'Relation between Family members and Income')"
      ]
     },
     "execution_count": 26,
     "metadata": {},
     "output_type": "execute_result"
    },
    {
     "data": {
      "image/png": "[encoded data removed]",
      "text/plain": [
       "<Figure size 432x288 with 1 Axes>"
      ]
     },
     "metadata": {
      "needs_background": "light"
     },
     "output_type": "display_data"
    }
   ],
   "source": [
    "sns.regplot(data=cus_by_fam, x='FamilyMembers',y='AnnualIncome', ci = None)\n",
    "plt.title('Relation between Family members and Income')"
   ]
  },
  {
   "cell_type": "code",
   "execution_count": 27,
   "id": "14aa3aef",
   "metadata": {
    "execution": {
     "iopub.execute_input": "2022-07-12T11:52:42.844112Z",
     "iopub.status.busy": "2022-07-12T11:52:42.843671Z",
     "iopub.status.idle": "2022-07-12T11:52:43.056223Z",
     "shell.execute_reply": "2022-07-12T11:52:43.055037Z"
    },
    "papermill": {
     "duration": 0.232214,
     "end_time": "2022-07-12T11:52:43.059000",
     "exception": false,
     "start_time": "2022-07-12T11:52:42.826786",
     "status": "completed"
    },
    "tags": []
   },
   "outputs": [
    {
     "data": {
      "image/png": "[encoded data removed]",
      "text/plain": [
       "<Figure size 432x288 with 1 Axes>"
      ]
     },
     "metadata": {
      "needs_background": "light"
     },
     "output_type": "display_data"
    }
   ],
   "source": [
    "sns.barplot(data=cus_by_fam, x='FamilyMembers',y='AnnualIncome')\n",
    "plt.show()"
   ]
  },
  {
   "cell_type": "code",
   "execution_count": 28,
   "id": "6d8b46ab",
   "metadata": {
    "execution": {
     "iopub.execute_input": "2022-07-12T11:52:43.093738Z",
     "iopub.status.busy": "2022-07-12T11:52:43.092706Z",
     "iopub.status.idle": "2022-07-12T11:52:43.114650Z",
     "shell.execute_reply": "2022-07-12T11:52:43.113373Z"
    },
    "papermill": {
     "duration": 0.042019,
     "end_time": "2022-07-12T11:52:43.116973",
     "exception": false,
     "start_time": "2022-07-12T11:52:43.074954",
     "status": "completed"
    },
    "tags": []
   },
   "outputs": [
    {
     "data": {
      "text/html": [
       "<div>\n",
       "<style scoped>\n",
       "    .dataframe tbody tr th:only-of-type {\n",
       "        vertical-align: middle;\n",
       "    }\n",
       "\n",
       "    .dataframe tbody tr th {\n",
       "        vertical-align: top;\n",
       "    }\n",
       "\n",
       "    .dataframe thead th {\n",
       "        text-align: right;\n",
       "    }\n",
       "</style>\n",
       "<table border=\"1\" class=\"dataframe\">\n",
       "  <thead>\n",
       "    <tr style=\"text-align: right;\">\n",
       "      <th></th>\n",
       "      <th>Age</th>\n",
       "      <th>AnnualIncome</th>\n",
       "      <th>FamilyMembers</th>\n",
       "      <th>TravelInsurance</th>\n",
       "    </tr>\n",
       "  </thead>\n",
       "  <tbody>\n",
       "    <tr>\n",
       "      <th>0</th>\n",
       "      <td>34</td>\n",
       "      <td>1.177820e+06</td>\n",
       "      <td>5.398496</td>\n",
       "      <td>133</td>\n",
       "    </tr>\n",
       "    <tr>\n",
       "      <th>1</th>\n",
       "      <td>28</td>\n",
       "      <td>9.438095e+05</td>\n",
       "      <td>4.685714</td>\n",
       "      <td>105</td>\n",
       "    </tr>\n",
       "    <tr>\n",
       "      <th>2</th>\n",
       "      <td>25</td>\n",
       "      <td>1.461413e+06</td>\n",
       "      <td>4.543478</td>\n",
       "      <td>92</td>\n",
       "    </tr>\n",
       "    <tr>\n",
       "      <th>3</th>\n",
       "      <td>33</td>\n",
       "      <td>1.000000e+06</td>\n",
       "      <td>5.435897</td>\n",
       "      <td>78</td>\n",
       "    </tr>\n",
       "    <tr>\n",
       "      <th>4</th>\n",
       "      <td>31</td>\n",
       "      <td>1.299333e+06</td>\n",
       "      <td>4.506667</td>\n",
       "      <td>75</td>\n",
       "    </tr>\n",
       "    <tr>\n",
       "      <th>5</th>\n",
       "      <td>26</td>\n",
       "      <td>1.312838e+06</td>\n",
       "      <td>4.756757</td>\n",
       "      <td>74</td>\n",
       "    </tr>\n",
       "    <tr>\n",
       "      <th>6</th>\n",
       "      <td>29</td>\n",
       "      <td>1.000980e+06</td>\n",
       "      <td>5.000000</td>\n",
       "      <td>51</td>\n",
       "    </tr>\n",
       "    <tr>\n",
       "      <th>7</th>\n",
       "      <td>30</td>\n",
       "      <td>9.750000e+05</td>\n",
       "      <td>4.714286</td>\n",
       "      <td>28</td>\n",
       "    </tr>\n",
       "    <tr>\n",
       "      <th>8</th>\n",
       "      <td>35</td>\n",
       "      <td>8.857143e+05</td>\n",
       "      <td>5.500000</td>\n",
       "      <td>28</td>\n",
       "    </tr>\n",
       "    <tr>\n",
       "      <th>9</th>\n",
       "      <td>27</td>\n",
       "      <td>8.851852e+05</td>\n",
       "      <td>4.185185</td>\n",
       "      <td>27</td>\n",
       "    </tr>\n",
       "    <tr>\n",
       "      <th>10</th>\n",
       "      <td>32</td>\n",
       "      <td>7.763158e+05</td>\n",
       "      <td>5.315789</td>\n",
       "      <td>19</td>\n",
       "    </tr>\n",
       "  </tbody>\n",
       "</table>\n",
       "</div>"
      ],
      "text/plain": [
       "    Age  AnnualIncome  FamilyMembers  TravelInsurance\n",
       "0    34  1.177820e+06       5.398496              133\n",
       "1    28  9.438095e+05       4.685714              105\n",
       "2    25  1.461413e+06       4.543478               92\n",
       "3    33  1.000000e+06       5.435897               78\n",
       "4    31  1.299333e+06       4.506667               75\n",
       "5    26  1.312838e+06       4.756757               74\n",
       "6    29  1.000980e+06       5.000000               51\n",
       "7    30  9.750000e+05       4.714286               28\n",
       "8    35  8.857143e+05       5.500000               28\n",
       "9    27  8.851852e+05       4.185185               27\n",
       "10   32  7.763158e+05       5.315789               19"
      ]
     },
     "execution_count": 28,
     "metadata": {},
     "output_type": "execute_result"
    }
   ],
   "source": [
    "cus_by_age = cus_df.groupby('Age').agg({'AnnualIncome':'mean','FamilyMembers':'mean','TravelInsurance':'sum'}).sort_values(['TravelInsurance','AnnualIncome'], ascending = False)\n",
    "cus_by_age = cus_by_age.reset_index()\n",
    "cus_by_age"
   ]
  },
  {
   "cell_type": "code",
   "execution_count": 29,
   "id": "074ddccd",
   "metadata": {
    "execution": {
     "iopub.execute_input": "2022-07-12T11:52:43.151130Z",
     "iopub.status.busy": "2022-07-12T11:52:43.149882Z",
     "iopub.status.idle": "2022-07-12T11:52:43.368514Z",
     "shell.execute_reply": "2022-07-12T11:52:43.367544Z"
    },
    "papermill": {
     "duration": 0.238019,
     "end_time": "2022-07-12T11:52:43.370874",
     "exception": false,
     "start_time": "2022-07-12T11:52:43.132855",
     "status": "completed"
    },
    "tags": []
   },
   "outputs": [
    {
     "data": {
      "text/plain": [
       "<AxesSubplot:xlabel='FamilyMembers', ylabel='TravelInsurance'>"
      ]
     },
     "execution_count": 29,
     "metadata": {},
     "output_type": "execute_result"
    },
    {
     "data": {
      "image/png": "[encoded data removed]",
      "text/plain": [
       "<Figure size 432x288 with 1 Axes>"
      ]
     },
     "metadata": {
      "needs_background": "light"
     },
     "output_type": "display_data"
    }
   ],
   "source": [
    "sns.barplot(data=cus_by_fam,x='FamilyMembers',y='TravelInsurance')"
   ]
  }
 ],
 "metadata": {
  "kernelspec": {
   "display_name": "Python 3",
   "language": "python",
   "name": "python3"
  },
  "language_info": {
   "codemirror_mode": {
    "name": "ipython",
    "version": 3
   },
   "file_extension": ".py",
   "mimetype": "text/x-python",
   "name": "python",
   "nbconvert_exporter": "python",
   "pygments_lexer": "ipython3",
   "version": "3.7.12"
  },
  "papermill": {
   "default_parameters": {},
   "duration": 15.53718,
   "end_time": "2022-07-12T11:52:44.210626",
   "environment_variables": {},
   "exception": null,
   "input_path": "__notebook__.ipynb",
   "output_path": "__notebook__.ipynb",
   "parameters": {},
   "start_time": "2022-07-12T11:52:28.673446",
   "version": "2.3.4"
  }
 },
 "nbformat": 4,
 "nbformat_minor": 5
}
